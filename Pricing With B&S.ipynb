{
 "cells": [
  {
   "cell_type": "markdown",
   "id": "5c720e4c",
   "metadata": {},
   "source": [
    "### Libraries"
   ]
  },
  {
   "cell_type": "code",
   "execution_count": 1,
   "id": "65a8b7c8",
   "metadata": {},
   "outputs": [],
   "source": [
    "import pandas as pd\n",
    "import matplotlib.pyplot as plt\n",
    "import numpy as np\n",
    "import yfinance as yf\n",
    "from scipy.stats import norm\n",
    "import sympy as sp\n",
    "from datetime import *"
   ]
  },
  {
   "cell_type": "markdown",
   "id": "296729a1",
   "metadata": {},
   "source": [
    "## Black & Scholes Model \n",
    "\n",
    "    1) Declaration"
   ]
  },
  {
   "cell_type": "code",
   "execution_count": 2,
   "id": "88a2c1e1",
   "metadata": {},
   "outputs": [],
   "source": [
    "s = 100\n",
    "k = 150\n",
    "t = 4\n",
    "sigma = 0.2\n",
    "r = 0\n",
    "type = 'Call'"
   ]
  },
  {
   "cell_type": "markdown",
   "id": "b9c22a30",
   "metadata": {},
   "source": [
    "    2) Pricing with B&S Model"
   ]
  },
  {
   "cell_type": "code",
   "execution_count": 3,
   "id": "8bf6d6aa",
   "metadata": {},
   "outputs": [],
   "source": [
    "def BS_Model(s, k, sigma, t, r, type = 'Call'):\n",
    "    d1 = (np.log(s/k)+(r+0.5*(sigma)**2)*t)/(sigma*np.sqrt(t))\n",
    "    d2 = d1 - sigma*np.sqrt(t)\n",
    "    \n",
    "    \n",
    "    if type == 'Call':\n",
    "        n1 = norm.cdf(d1)\n",
    "        n2 = norm.cdf(d2)\n",
    "        price = s*n1-k*np.exp(-r*t)*n2\n",
    "        \n",
    "    if type == 'Put':\n",
    "        n1 = norm.cdf(-d1)\n",
    "        n2 = norm.cdf(-d2)\n",
    "        price = k * np.exp(-r*t) * n2 - s * n1\n",
    "    \n",
    "    return price"
   ]
  },
  {
   "cell_type": "code",
   "execution_count": 4,
   "id": "e10439ef",
   "metadata": {},
   "outputs": [
    {
     "data": {
      "text/plain": [
       "6.391183524514435"
      ]
     },
     "execution_count": 4,
     "metadata": {},
     "output_type": "execute_result"
    }
   ],
   "source": [
    "BS_Model(100, 80, 0.2, 4, 0, 'Put')"
   ]
  },
  {
   "cell_type": "markdown",
   "id": "c54926df",
   "metadata": {},
   "source": [
    "## Greeks"
   ]
  },
  {
   "cell_type": "markdown",
   "id": "a47dcf9d",
   "metadata": {},
   "source": [
    "### Delta\n",
    "\n",
    "\n",
    "$\n",
    "\\Delta = \\frac{\\partial V}{\\partial S}\n",
    "$\n",
    "\n",
    "$\n",
    "\\Delta_{\\text{call}} = \\Phi(d_1)\n",
    "$\n",
    "\n",
    "$\n",
    "\\Delta_{\\text{put}} = -\\Phi(-d_1)\n",
    "$\n"
   ]
  },
  {
   "cell_type": "code",
   "execution_count": 5,
   "id": "aee1d437",
   "metadata": {},
   "outputs": [],
   "source": [
    "def delta(s, k, sigma, t, r, type = 'Call'):\n",
    "    d1 = (np.log(s/k)+(r+0.5*(sigma)**2)*t)/(sigma*np.sqrt(t))\n",
    "    n1 = norm.cdf(d1)\n",
    "    \n",
    "    if type == 'Call':\n",
    "        delt = n1\n",
    "    \n",
    "    if type == 'Put':\n",
    "        delt = n1-1\n",
    "        \n",
    "    return delt"
   ]
  },
  {
   "cell_type": "markdown",
   "id": "268d7610",
   "metadata": {},
   "source": [
    "### Gamma\n",
    "\n",
    "$\n",
    "\\Gamma = \\frac{\\partial^2 V}{\\partial S^2}\n",
    "$\n",
    "\n",
    "$\n",
    "\\Gamma_{\\text{call}} = \\Gamma_{\\text{put}} =\\frac{\\Phi'(d_1)}{S \\cdot \\sigma \\cdot \\sqrt{T-t}}\n",
    "$"
   ]
  },
  {
   "cell_type": "code",
   "execution_count": 6,
   "id": "076cd3ec",
   "metadata": {},
   "outputs": [],
   "source": [
    "def gamma(s, k, sigma, t, r, type = 'Call'):\n",
    "    d1 = (np.log(s/k)+(r+0.5*(sigma)**2)*t)/(sigma*np.sqrt(t))\n",
    "    n1 = norm.pdf(d1)\n",
    "\n",
    "    gamm = n1/(s * sigma * np.sqrt(t))\n",
    "\n",
    "        \n",
    "    return gamm"
   ]
  },
  {
   "cell_type": "markdown",
   "id": "27b15bf2",
   "metadata": {},
   "source": [
    "### Véga\n",
    "\n",
    "$\n",
    "\\nu = \\frac{\\partial V}{\\partial \\sigma}\n",
    "$\n",
    "\n",
    "$\n",
    "\\nu_{\\text{call}} = \\nu_{\\text{put}} = \\Phi'(d_1) \\cdot S \\cdot \\sigma \\cdot \\sqrt{T-t}\n",
    "$"
   ]
  },
  {
   "cell_type": "code",
   "execution_count": 7,
   "id": "115a2733",
   "metadata": {},
   "outputs": [],
   "source": [
    "def vega(s, k, sigma, t, r, type = 'Call'):\n",
    "    d1 = (np.log(s/k)+(r+0.5*(sigma)**2)*t)/(sigma*np.sqrt(t))\n",
    "    n1 = norm.pdf(d1)\n",
    "\n",
    "    veg = s * n1 * np.sqrt(t)\n",
    "\n",
    "        \n",
    "    return veg"
   ]
  },
  {
   "cell_type": "markdown",
   "id": "02d5e0c7",
   "metadata": {},
   "source": [
    "### Thêta\n",
    "\n",
    "$\n",
    "\\theta = \\frac{\\partial V}{\\partial t}\n",
    "$\n",
    "\n",
    "$\n",
    "\\theta_{\\text{call}} = - \\frac{S \\cdot \\Phi'(d_1) \\cdot \\sigma}{2 \\cdot \\sqrt{T-t}} - r \\cdot K \\cdot e{^{-r\\cdot(\\sqrt{T-t})}} \\cdot \\phi(d_2)\n",
    "$\n",
    "\n",
    "$\n",
    "\\theta_{\\text{put}} = - \\frac{S \\cdot \\Phi'(d_1) \\cdot \\sigma}{2 \\cdot \\sqrt{T-t}} + r \\cdot K \\cdot e{^{-r\\cdot(\\sqrt{T-t})}} \\cdot \\phi(-d_2)\n",
    "$"
   ]
  },
  {
   "cell_type": "code",
   "execution_count": 8,
   "id": "cb8ad710",
   "metadata": {},
   "outputs": [],
   "source": [
    "def theta(s, k, sigma, t, r, type = 'Call'):\n",
    "    d1 = (np.log(s/k)+(r+0.5*(sigma)**2)*t)/(sigma * np.sqrt(t))\n",
    "    d2 = d1 - sigma * np.sqrt(t)\n",
    "    \n",
    "    if type == 'Call':\n",
    "        thet = -(s*norm.pdf(d1)*sigma)/(2 * np.sqrt(t)) - r * k * np.exp(-r*t)*norm.cdf(d2)\n",
    "        \n",
    "    if type == 'Put':\n",
    "        thet = -(s*norm.pdf(d1)*sigma)/(2 * np.sqrt(t)) + r * k * np.exp(-r*t)*norm.cdf(-d2)\n",
    "        \n",
    "    return thet"
   ]
  },
  {
   "cell_type": "markdown",
   "id": "7b137a70",
   "metadata": {},
   "source": [
    "### Rhô\n",
    "\n",
    "$\n",
    "\\rho = \\frac{\\partial V}{\\partial r}\n",
    "$\n",
    "\n",
    "$\n",
    "\\rho_{\\text{call}} = K \\cdot(T-t) e^{-r\\sqrt{T-t}} \\cdot \\Phi(d_2)\n",
    "$\n",
    "\n",
    "$\n",
    "\\rho_{\\text{put}} = - K \\cdot(T-t) e^{-r\\sqrt{T-t}} \\cdot \\Phi(-d_2)\n",
    "$"
   ]
  },
  {
   "cell_type": "code",
   "execution_count": 9,
   "id": "3caf364b",
   "metadata": {},
   "outputs": [],
   "source": [
    "def rho(s, k, sigma, t, r, type = 'Call'):\n",
    "    d1 = (np.log(s/k)+(r+0.5*(sigma)**2)*t)/(sigma * np.sqrt(t))\n",
    "    d2 = d1 - sigma * np.sqrt(t)\n",
    "    \n",
    "    if type == 'Call':\n",
    "        rh = k*t*np.exp(-r*t)*norm.cdf(d2)\n",
    "        \n",
    "    if type == 'Put':\n",
    "        rh = -k*t*np.exp(-r*t)*norm.cdf(-d2)\n",
    "        \n",
    "    return rh"
   ]
  },
  {
   "cell_type": "code",
   "execution_count": 10,
   "id": "ed0ef8ce",
   "metadata": {},
   "outputs": [],
   "source": [
    "def greeks(s, k, sigma, t, r, type = 'Call'):\n",
    "    delt = delta(s, k, sigma, t, r, type = 'Call')\n",
    "    gamm = gamma(s, k, sigma, t, r, type = 'Call')\n",
    "    thet = theta(s, k, sigma, t, r, type = 'Call')\n",
    "    veg = vega(s, k, sigma, t, r, type = 'Call')\n",
    "    rh = rho(s, k, sigma, t, r, type = 'Call')\n",
    "    \n",
    "    df = pd.DataFrame({'Values':[delt, gamm, thet, veg, rh]})\n",
    "    df.index = ['Delta', 'Gamma', 'Théta', 'Véga', 'Rhô']\n",
    "    \n",
    "    return df"
   ]
  },
  {
   "cell_type": "code",
   "execution_count": 11,
   "id": "75ec3557",
   "metadata": {},
   "outputs": [
    {
     "data": {
      "text/html": [
       "<div>\n",
       "<style scoped>\n",
       "    .dataframe tbody tr th:only-of-type {\n",
       "        vertical-align: middle;\n",
       "    }\n",
       "\n",
       "    .dataframe tbody tr th {\n",
       "        vertical-align: top;\n",
       "    }\n",
       "\n",
       "    .dataframe thead th {\n",
       "        text-align: right;\n",
       "    }\n",
       "</style>\n",
       "<table border=\"1\" class=\"dataframe\">\n",
       "  <thead>\n",
       "    <tr style=\"text-align: right;\">\n",
       "      <th></th>\n",
       "      <th>Values</th>\n",
       "    </tr>\n",
       "  </thead>\n",
       "  <tbody>\n",
       "    <tr>\n",
       "      <th>Delta</th>\n",
       "      <td>0.487604</td>\n",
       "    </tr>\n",
       "    <tr>\n",
       "      <th>Gamma</th>\n",
       "      <td>0.014098</td>\n",
       "    </tr>\n",
       "    <tr>\n",
       "      <th>Théta</th>\n",
       "      <td>-2.819586</td>\n",
       "    </tr>\n",
       "    <tr>\n",
       "      <th>Véga</th>\n",
       "      <td>56.391719</td>\n",
       "    </tr>\n",
       "    <tr>\n",
       "      <th>Rhô</th>\n",
       "      <td>79.126038</td>\n",
       "    </tr>\n",
       "  </tbody>\n",
       "</table>\n",
       "</div>"
      ],
      "text/plain": [
       "          Values\n",
       "Delta   0.487604\n",
       "Gamma   0.014098\n",
       "Théta  -2.819586\n",
       "Véga   56.391719\n",
       "Rhô    79.126038"
      ]
     },
     "execution_count": 11,
     "metadata": {},
     "output_type": "execute_result"
    }
   ],
   "source": [
    "greeks(100, 105, 0.2, 2, 0, 'Call')"
   ]
  }
 ],
 "metadata": {
  "kernelspec": {
   "display_name": "Python 3 (ipykernel)",
   "language": "python",
   "name": "python3"
  },
  "language_info": {
   "codemirror_mode": {
    "name": "ipython",
    "version": 3
   },
   "file_extension": ".py",
   "mimetype": "text/x-python",
   "name": "python",
   "nbconvert_exporter": "python",
   "pygments_lexer": "ipython3",
   "version": "3.10.9"
  }
 },
 "nbformat": 4,
 "nbformat_minor": 5
}
